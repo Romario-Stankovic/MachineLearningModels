{
 "cells": [
  {
   "attachments": {},
   "cell_type": "markdown",
   "metadata": {},
   "source": [
    "# Final exam from \"Introduction to Machine Learning\" - Romario Stanković 2020230210"
   ]
  },
  {
   "attachments": {},
   "cell_type": "markdown",
   "metadata": {},
   "source": [
    "### 0) Setup"
   ]
  },
  {
   "cell_type": "code",
   "execution_count": 205,
   "metadata": {},
   "outputs": [],
   "source": [
    "import numpy as np\n",
    "import matplotlib.pyplot as plt"
   ]
  },
  {
   "cell_type": "code",
   "execution_count": 206,
   "metadata": {},
   "outputs": [],
   "source": [
    "# Computes the square of a vector\n",
    "def square(V : np.ndarray):\n",
    "    return V ** 2"
   ]
  },
  {
   "cell_type": "code",
   "execution_count": 207,
   "metadata": {},
   "outputs": [],
   "source": [
    "# Computes the average of a vector\n",
    "def avg(V : np.ndarray):\n",
    "    return sum(V) / len(V)"
   ]
  },
  {
   "cell_type": "code",
   "execution_count": 208,
   "metadata": {},
   "outputs": [],
   "source": [
    "# Transposes a matrix\n",
    "def transpose(M : np.ndarray):\n",
    "    r = len(M)\n",
    "    c = len(M[0])\n",
    "\n",
    "    N = []\n",
    "\n",
    "    for j in range(c):\n",
    "        C = []\n",
    "        for i in range(r):\n",
    "            val = M[i][j]\n",
    "            C.append(val)\n",
    "        N.append(C)\n",
    "\n",
    "    return np.array(N)"
   ]
  },
  {
   "cell_type": "code",
   "execution_count": 209,
   "metadata": {},
   "outputs": [],
   "source": [
    "# Computes the dot product of a matrix and a vector\n",
    "def dot(M : np.ndarray, V : np.ndarray):\n",
    "\n",
    "    r = M.shape[0]\n",
    "    c = M.shape[1]\n",
    "\n",
    "    D = []\n",
    "\n",
    "    for i in range(r):\n",
    "        value = 0.0\n",
    "        for j in range(c):\n",
    "            value = value + M[i][j] * V[j]\n",
    "        D.append(value)\n",
    "\n",
    "    return np.array(D)"
   ]
  },
  {
   "cell_type": "code",
   "execution_count": 210,
   "metadata": {},
   "outputs": [],
   "source": [
    "# Computes the standard deviation of a vector\n",
    "def std(V : np.ndarray):\n",
    "    n = len(V)\n",
    "    mean = avg(V)\n",
    "\n",
    "    variation = 0.0\n",
    "    for i in range(n):\n",
    "        variation = variation + (V[i] - mean) ** 2\n",
    "\n",
    "    std = (variation / n) ** 0.5\n",
    "\n",
    "    return std"
   ]
  },
  {
   "cell_type": "code",
   "execution_count": 211,
   "metadata": {},
   "outputs": [],
   "source": [
    "# Normalizes a matrix\n",
    "def normalize(x : np.ndarray):\n",
    "\n",
    "    n = x.shape[1]\n",
    "\n",
    "    for i in range(n):\n",
    "\n",
    "        m = avg(x[:, i])\n",
    "        s = std(x[:, i])\n",
    "\n",
    "        x[:, i] = (x[:, i] - m) / s\n",
    "\n",
    "    return x"
   ]
  },
  {
   "cell_type": "code",
   "execution_count": 212,
   "metadata": {},
   "outputs": [],
   "source": [
    "# Splits the data into training and testing sets\n",
    "def train_test_split(x : np.ndarray, y : np.ndarray, test_size = 0.2):\n",
    "\n",
    "    m = x.shape[0]\n",
    "\n",
    "    index = np.arange(m)\n",
    "    np.random.shuffle(index)\n",
    "\n",
    "    size = int(m * test_size)\n",
    "\n",
    "    x_train = x[index[size:]]\n",
    "    y_train = y[index[size:]]\n",
    "    x_test = x[index[:size]]\n",
    "    y_test = y[index[:size]]\n",
    "\n",
    "    return (x_train, x_test, y_train, y_test)"
   ]
  },
  {
   "cell_type": "code",
   "execution_count": 213,
   "metadata": {},
   "outputs": [],
   "source": [
    "# Encodes the labels (from strings to integers)\n",
    "def encode_labels(y : np.ndarray):\n",
    "    dict = {}\n",
    "    index = 0\n",
    "\n",
    "    result = []\n",
    "\n",
    "    for i in range(len(y)):\n",
    "        if y[i] not in dict:\n",
    "            dict[y[i]] = index\n",
    "            index = index + 1\n",
    "        result.append(dict[y[i]])\n",
    "\n",
    "    return np.array(result)"
   ]
  },
  {
   "attachments": {},
   "cell_type": "markdown",
   "metadata": {},
   "source": [
    "### 1) Linear Regression"
   ]
  },
  {
   "cell_type": "code",
   "execution_count": 214,
   "metadata": {},
   "outputs": [],
   "source": [
    "class LinearRegression:\n",
    "\n",
    "    # Initialize LinearRegression\n",
    "    def __init__(self, learning_rate : float = 0.01, iterations : int = 100, batch_size : int = 16):\n",
    "        self.batch_size = batch_size\n",
    "        self.learning_rate = learning_rate\n",
    "        self.iterations = iterations\n",
    "        self.cost = []\n",
    "        self.coef = None\n",
    "\n",
    "    # Get the next batch of features and targets\n",
    "    def get_next_batch(self, x : np.ndarray, y : np.ndarray):\n",
    "\n",
    "        # Get number of samples\n",
    "        m = x.shape[0]\n",
    "\n",
    "        # Store the batch size in a local variable\n",
    "        size = self.batch_size\n",
    "\n",
    "        # Take (size) features and targets \n",
    "        for i in range(0, m, size):\n",
    "            # Yield the result, stopping the function at this points until the next call\n",
    "            yield ( x[i : i + size], y[i : i + size] )\n",
    "\n",
    "    # Calculates the cost of the hypothesis\n",
    "    def calculate_cost(self, hypothesis : np.ndarray, target : np.ndarray):\n",
    "        # Get the number of samples\n",
    "        s = hypothesis.shape[0]\n",
    "        # Return the cost of linear regression\n",
    "        return (1 / s) * 0.5 * sum(square(hypothesis - target))\n",
    "\n",
    "    # Performs the backwards propagation\n",
    "    def backwards_propagation(self, x : np.ndarray, y : np.ndarray, h : np.ndarray, theta : np.ndarray, no_samples : int):\n",
    "\n",
    "        # Get number of theta variables\n",
    "        n = theta.shape[0]\n",
    "\n",
    "        # Update the bias\n",
    "        theta[0] = theta[0] - (self.learning_rate * 2 / no_samples) * sum(h - y)\n",
    "\n",
    "        # Update the coefficients\n",
    "        for i in range(1, n):\n",
    "            theta[i] = theta[i] - (self.learning_rate * 2 / no_samples) * sum((h - y) * transpose(x)[i])\n",
    "\n",
    "        return theta\n",
    "\n",
    "    # Calculates the hypothesis\n",
    "    def hypothesis(self, x : np.ndarray, theta : np.ndarray):\n",
    "\n",
    "        # Get the number of samples\n",
    "        m = x.shape[0]\n",
    "        n = x.shape[1]\n",
    "\n",
    "        # initialize the hypothesis\n",
    "        H = np.ones((m, 1))\n",
    "\n",
    "        # Reshape theta to be a matrix with 1 row and n columns\n",
    "        theta = theta.reshape(1, n)\n",
    "\n",
    "        # Go through the samples and calculate the hypothesis\n",
    "        for i in range(m):\n",
    "            H[i] = dot(theta, x[i])\n",
    "\n",
    "        # Return the hypothesis\n",
    "        return H.reshape(m)\n",
    "\n",
    "    # Fit the model\n",
    "    def fit(self, x : np.ndarray, y : np.ndarray):\n",
    "\n",
    "        # Get the number of features (n) and samples (m)\n",
    "        no_samples = x.shape[0]\n",
    "        no_features = x.shape[1]\n",
    "\n",
    "        # Initialize the bias\n",
    "        bias = np.ones((no_samples, 1))\n",
    "        theta = np.random.randn(no_features+1) * 0.001\n",
    "\n",
    "        x = np.concatenate((bias, x), axis = 1)\n",
    "\n",
    "        for _ in range(self.iterations):\n",
    "            \n",
    "            loss = []\n",
    "            for _, (x_batch, y_batch) in enumerate(self.get_next_batch(x, y)):\n",
    "                # Make a hypothesis\n",
    "                h = self.hypothesis(x_batch, theta)\n",
    "\n",
    "                # Add loss for each batch\n",
    "                cost = self.calculate_cost(h, y_batch)\n",
    "                loss.append(cost)\n",
    "\n",
    "                theta = self.backwards_propagation(x_batch, y_batch, h, theta, no_samples)\n",
    "\n",
    "            # Save the cost of this iteration\n",
    "            self.cost.append(avg(loss))\n",
    "\n",
    "        self.coef = theta\n",
    "    \n",
    "        return self\n",
    "\n",
    "    # Predict the target\n",
    "    def predict(self, x : np.ndarray):\n",
    "\n",
    "        # Get the number of samples\n",
    "        m = x.shape[0]\n",
    "\n",
    "        # Initialize the bias\n",
    "        bias = np.ones((m, 1))\n",
    "\n",
    "        # Concatenate the bias with the input data\n",
    "        x = np.concatenate((bias, x), axis = 1)\n",
    "\n",
    "        # Make a hypothesis\n",
    "        h = self.hypothesis(x, self.coef)\n",
    "\n",
    "        return h"
   ]
  },
  {
   "cell_type": "code",
   "execution_count": 215,
   "metadata": {},
   "outputs": [],
   "source": [
    "# Load the data\n",
    "csv = np.loadtxt('wine-quality.csv', delimiter=',', dtype=str)\n",
    "columns = csv[0,:]\n",
    "data = csv[1:, :]\n",
    "\n",
    "# Select all except the pH column as the features\n",
    "X = data[:, np.arange(data.shape[1]) != 8].astype(float)\n",
    "# Select the pH column as the target\n",
    "Y = data[:, 8].astype(float)\n",
    "\n",
    "X = normalize(X)"
   ]
  },
  {
   "cell_type": "code",
   "execution_count": 217,
   "metadata": {},
   "outputs": [
    {
     "data": {
      "text/plain": [
       "<matplotlib.collections.PathCollection at 0x2b896a33a00>"
      ]
     },
     "execution_count": 217,
     "metadata": {},
     "output_type": "execute_result"
    },
    {
     "data": {
      "image/png": "[encoded data removed]",
      "text/plain": [
       "<Figure size 432x288 with 1 Axes>"
      ]
     },
     "metadata": {
      "needs_background": "light"
     },
     "output_type": "display_data"
    }
   ],
   "source": [
    "plt.scatter(X[:, 2], Y)"
   ]
  },
  {
   "cell_type": "code",
   "execution_count": 218,
   "metadata": {},
   "outputs": [],
   "source": [
    "x_train, x_test, y_train, y_test = train_test_split(X, Y, 0.2)"
   ]
  },
  {
   "cell_type": "code",
   "execution_count": 219,
   "metadata": {},
   "outputs": [
    {
     "data": {
      "text/plain": [
       "<__main__.LinearRegression at 0x2b896a0ffa0>"
      ]
     },
     "execution_count": 219,
     "metadata": {},
     "output_type": "execute_result"
    }
   ],
   "source": [
    "model = LinearRegression(iterations=200)\n",
    "\n",
    "model.fit(X, Y)"
   ]
  },
  {
   "cell_type": "code",
   "execution_count": 220,
   "metadata": {},
   "outputs": [
    {
     "data": {
      "text/plain": [
       "[<matplotlib.lines.Line2D at 0x2b8969c9cc0>]"
      ]
     },
     "execution_count": 220,
     "metadata": {},
     "output_type": "execute_result"
    },
    {
     "data": {
      "image/png": "[encoded data removed]",
      "text/plain": [
       "<Figure size 432x288 with 1 Axes>"
      ]
     },
     "metadata": {
      "needs_background": "light"
     },
     "output_type": "display_data"
    }
   ],
   "source": [
    "cost = model.cost\n",
    "\n",
    "plt.plot(cost)"
   ]
  },
  {
   "cell_type": "code",
   "execution_count": 222,
   "metadata": {},
   "outputs": [
    {
     "name": "stdout",
     "output_type": "stream",
     "text": [
      "0.01147877365037611\n"
     ]
    }
   ],
   "source": [
    "y_pred = model.predict(x_test)\n",
    "\n",
    "mse = sum(square(y_pred - y_test)) / len(y_test)\n",
    "\n",
    "print(mse)"
   ]
  },
  {
   "attachments": {},
   "cell_type": "markdown",
   "metadata": {},
   "source": [
    "### 2) Logistic Regression"
   ]
  },
  {
   "cell_type": "code",
   "execution_count": 223,
   "metadata": {},
   "outputs": [],
   "source": [
    "class LogisticRegression:\n",
    "\n",
    "    def __init__(self, learning_rate : float = 0.001, regularization_param : float = 2, iterations : int = 100, batch_size : int = 10):\n",
    "        self.learning_rate = learning_rate\n",
    "        self.iterations = iterations\n",
    "        self.batch_size = batch_size\n",
    "        self.regularization_param = regularization_param\n",
    "        self.cost = []\n",
    "        self.coef = None\n",
    "\n",
    "    def next_batch(self, x : np.ndarray, y : np.ndarray):\n",
    "            # Get the number of samples\n",
    "            m = x.shape[0]\n",
    "    \n",
    "            # Store the batch size in a local variable\n",
    "            size = self.batch_size\n",
    "    \n",
    "            # Take (size) features and targets \n",
    "            for i in range(0, m, size):\n",
    "                # Yield the result, stopping the function at this points until the next call\n",
    "                yield ( x[i : i + size], y[i : i + size] )\n",
    "\n",
    "    def sigmoid(self, z : np.ndarray):\n",
    "        # Return the sigmoid of z\n",
    "        return 1 / (1 + np.exp(-z))\n",
    "\n",
    "    def cost_function(self, h : np.ndarray, y : np.ndarray):\n",
    "        e = 1e-10\n",
    "        # Calculate the cost function\n",
    "        return -avg(y * np.log(h + e) + (1 - y) * np.log(1 - h + e))\n",
    "\n",
    "    def fit(self, x : np.ndarray, y : np.ndarray):\n",
    "\n",
    "        n = x.shape[1]\n",
    "        m = x.shape[0]\n",
    "\n",
    "        bias = np.ones((m, 1))\n",
    "        x = np.concatenate((bias, x), axis = 1)\n",
    "        W = np.random.randn(n+1)\n",
    "\n",
    "        for _ in range(self.iterations):\n",
    "\n",
    "            loss = []\n",
    "\n",
    "            for _, (x_batch, y_batch) in enumerate(self.next_batch(x, y)):\n",
    "\n",
    "                bm = x_batch.shape[0]\n",
    "\n",
    "                z = dot(x_batch, W)\n",
    "                h = self.sigmoid(z)\n",
    "\n",
    "                ridge = (self.regularization_param / (2 * bm)) * sum(square(W))\n",
    "                cost = self.cost_function(h, y_batch) + ridge\n",
    "                loss.append(cost)\n",
    "\n",
    "                error = h - y_batch\n",
    "                gradient = (1 / bm) * (dot(transpose(x_batch), error) + (self.regularization_param / bm) * W)\n",
    "\n",
    "                W = W - self.learning_rate * gradient\n",
    "\n",
    "            self.cost.append(avg(loss))\n",
    "\n",
    "        self.coef = W\n",
    "\n",
    "        return self\n",
    "\n",
    "    def predict(self, x : np.ndarray, threshold : float = 0.5):\n",
    "\n",
    "        labels = []\n",
    "\n",
    "        W = self.coef[1:]\n",
    "        b = self.coef[0]\n",
    "\n",
    "        y_pred = dot(x, W) + b\n",
    "        activation = self.sigmoid(y_pred)\n",
    "\n",
    "        for i in activation:\n",
    "            if i > threshold:\n",
    "                labels.append(1)\n",
    "            else:\n",
    "                labels.append(0)\n",
    "        \n",
    "        labels = np.array(labels)\n",
    "        return labels"
   ]
  },
  {
   "cell_type": "code",
   "execution_count": 224,
   "metadata": {},
   "outputs": [],
   "source": [
    "csv = np.loadtxt('breast-cancer.csv', delimiter=',', dtype=str)\n",
    "columns = csv[0,:]\n",
    "data = csv[1:, :]\n",
    "\n",
    "X = data[:, 1:].astype(float)\n",
    "Y = data[:, 0]\n",
    "\n",
    "X = normalize(X)\n",
    "Y = encode_labels(Y)"
   ]
  },
  {
   "cell_type": "code",
   "execution_count": 236,
   "metadata": {},
   "outputs": [
    {
     "data": {
      "text/plain": [
       "<matplotlib.collections.PathCollection at 0x2b898106980>"
      ]
     },
     "execution_count": 236,
     "metadata": {},
     "output_type": "execute_result"
    },
    {
     "data": {
      "image/png": "[encoded data removed]",
      "text/plain": [
       "<Figure size 432x288 with 1 Axes>"
      ]
     },
     "metadata": {
      "needs_background": "light"
     },
     "output_type": "display_data"
    }
   ],
   "source": [
    "plt.scatter(X[:, 1], X[:, 0], c=Y)"
   ]
  },
  {
   "cell_type": "code",
   "execution_count": 237,
   "metadata": {},
   "outputs": [],
   "source": [
    "x_train, x_test, y_train, y_test = train_test_split(X, Y, 0.2)"
   ]
  },
  {
   "cell_type": "code",
   "execution_count": 240,
   "metadata": {},
   "outputs": [
    {
     "data": {
      "text/plain": [
       "<__main__.LogisticRegression at 0x2b89819e590>"
      ]
     },
     "execution_count": 240,
     "metadata": {},
     "output_type": "execute_result"
    }
   ],
   "source": [
    "model = LogisticRegression(iterations=100, learning_rate=0.01, regularization_param=0.1)\n",
    "\n",
    "model.fit(x_train, y_train)"
   ]
  },
  {
   "cell_type": "code",
   "execution_count": 241,
   "metadata": {},
   "outputs": [
    {
     "data": {
      "text/plain": [
       "[<matplotlib.lines.Line2D at 0x2b8981d1810>]"
      ]
     },
     "execution_count": 241,
     "metadata": {},
     "output_type": "execute_result"
    },
    {
     "data": {
      "image/png": "[encoded data removed]",
      "text/plain": [
       "<Figure size 432x288 with 1 Axes>"
      ]
     },
     "metadata": {
      "needs_background": "light"
     },
     "output_type": "display_data"
    }
   ],
   "source": [
    "cost = model.cost\n",
    "\n",
    "plt.plot(cost)"
   ]
  },
  {
   "cell_type": "code",
   "execution_count": 243,
   "metadata": {},
   "outputs": [
    {
     "name": "stdout",
     "output_type": "stream",
     "text": [
      "0.9646017699115044\n"
     ]
    }
   ],
   "source": [
    "y_pred = model.predict(x_test)\n",
    "\n",
    "print(sum(y_pred == y_test) / len(y_test))"
   ]
  },
  {
   "attachments": {},
   "cell_type": "markdown",
   "metadata": {},
   "source": [
    "### 3) Neural Networks"
   ]
  },
  {
   "attachments": {},
   "cell_type": "markdown",
   "metadata": {},
   "source": [
    "### 4) K-Means"
   ]
  },
  {
   "cell_type": "code",
   "execution_count": 307,
   "metadata": {},
   "outputs": [],
   "source": [
    "class KMeans:\n",
    "\n",
    "    # Initialize KMeans\n",
    "    def __init__(self, max_iterations : int = 100, n_clusters : int = 2):\n",
    "        self.max_iterations = max_iterations\n",
    "        self.n_clusters = n_clusters\n",
    "        self.centroids = None\n",
    "\n",
    "    # Calculate the distance between two points\n",
    "    def distance(self, a : np.ndarray, b : np.ndarray):\n",
    "        return np.sqrt(sum((a - b) ** 2))\n",
    "\n",
    "    # Select random samples as the initial centroids\n",
    "    def init_centroids(self, x : np.ndarray):\n",
    "        m = x.shape[0]\n",
    "\n",
    "        indices = np.random.choice(m, self.n_clusters)\n",
    "        return x[indices]\n",
    "\n",
    "    # Assign each sample to the closest centroid\n",
    "    def assign_to_centroid(self, x : np.ndarray, centroids : np.ndarray):\n",
    "\n",
    "        # Calculate the euclidean distance between each sample and each centroid\n",
    "        distances = np.sqrt(((x - centroids[:, np.newaxis])**2).sum(axis=2))\n",
    "        # Find the closest centroid for each sample\n",
    "        clusters = np.argmin(distances, axis=0)\n",
    "        # Return an array which contains the closest centroid index for each sample\n",
    "        return np.array(clusters)\n",
    "\n",
    "    # Update the centroids\n",
    "    def update_centroids(self, x : np.ndarray, assignment : np.ndarray):\n",
    "        centroids = []\n",
    "        m = x.shape[0]\n",
    "\n",
    "        for i in range(self.n_clusters):\n",
    "            # Filter out the samples which belong to the current cluster\n",
    "            assignments = x[assignment == i]\n",
    "\n",
    "            # If there are samples which belong to the current cluster\n",
    "            # Calculate the average of the samples and add it to the centroids\n",
    "            if (len(assignments) > 0):\n",
    "                centroids.append(avg(assignments))\n",
    "            else:\n",
    "                # Otherwise, select a random sample as the centroid\n",
    "                centroids.append(x[np.random.choice(m)])\n",
    "        # Return the updated centroids\n",
    "        return np.array(centroids)\n",
    "\n",
    "    # Fit the model\n",
    "    def fit(self, x : np.ndarray):\n",
    "\n",
    "        m = x.shape[0]\n",
    "\n",
    "        # Initialize the centroids\n",
    "        self.centroids = self.init_centroids(x)\n",
    "        self.assignments = np.zeros(m)\n",
    "\n",
    "        for _ in range(self.max_iterations):\n",
    "\n",
    "            # Save the previous assignments\n",
    "            prev_assignments = np.copy(self.assignments)\n",
    "            # Assign each sample to the closest centroid\n",
    "            self.assignments = self.assign_to_centroid(x, self.centroids)\n",
    "            # Update the centroids\n",
    "            self.centroids = self.update_centroids(x, self.assignments)\n",
    "            \n",
    "            # If the assignments didn't change, stop the training\n",
    "            if (prev_assignments == self.assignments).all():\n",
    "                break\n",
    "\n",
    "        return self\n",
    "\n",
    "    def predict(self, x : np.ndarray):\n",
    "        return self.assign_to_centroid(x, self.centroids)\n"
   ]
  },
  {
   "cell_type": "code",
   "execution_count": 308,
   "metadata": {},
   "outputs": [],
   "source": [
    "csv = np.loadtxt('iris.csv', delimiter=',', dtype=str)\n",
    "columns = csv[0,:]\n",
    "data = csv[1:, :]\n",
    "\n",
    "X = data[:, :-1].astype(float)\n",
    "Y = data[:, -1]\n",
    "\n",
    "X = normalize(X)\n",
    "\n",
    "Y = encode_labels(Y)"
   ]
  },
  {
   "cell_type": "code",
   "execution_count": 309,
   "metadata": {},
   "outputs": [
    {
     "data": {
      "text/plain": [
       "<matplotlib.collections.PathCollection at 0x2b89ab49e10>"
      ]
     },
     "execution_count": 309,
     "metadata": {},
     "output_type": "execute_result"
    },
    {
     "data": {
      "image/png": "[encoded data removed]",
      "text/plain": [
       "<Figure size 432x288 with 1 Axes>"
      ]
     },
     "metadata": {
      "needs_background": "light"
     },
     "output_type": "display_data"
    }
   ],
   "source": [
    "plt.scatter(X[:, 2], X[:, 1], c=Y)"
   ]
  },
  {
   "cell_type": "code",
   "execution_count": 310,
   "metadata": {},
   "outputs": [],
   "source": [
    "x_train, x_test, y_train, y_test = train_test_split(X, Y, 0.2)"
   ]
  },
  {
   "cell_type": "code",
   "execution_count": 312,
   "metadata": {},
   "outputs": [
    {
     "data": {
      "text/plain": [
       "<__main__.KMeans at 0x2b89ab49d20>"
      ]
     },
     "execution_count": 312,
     "metadata": {},
     "output_type": "execute_result"
    }
   ],
   "source": [
    "model = KMeans(n_clusters=3, max_iterations=100)\n",
    "model.fit(x_train)"
   ]
  },
  {
   "cell_type": "code",
   "execution_count": 313,
   "metadata": {},
   "outputs": [
    {
     "name": "stdout",
     "output_type": "stream",
     "text": [
      "0.1\n"
     ]
    }
   ],
   "source": [
    "y_pred = model.predict(x_test)\n",
    "\n",
    "print(sum(y_pred == y_test) / len(y_test))"
   ]
  },
  {
   "cell_type": "code",
   "execution_count": 315,
   "metadata": {},
   "outputs": [
    {
     "data": {
      "text/plain": [
       "<matplotlib.collections.PathCollection at 0x2b89abafd00>"
      ]
     },
     "execution_count": 315,
     "metadata": {},
     "output_type": "execute_result"
    },
    {
     "data": {
      "image/png": "[encoded data removed]",
      "text/plain": [
       "<Figure size 432x288 with 1 Axes>"
      ]
     },
     "metadata": {
      "needs_background": "light"
     },
     "output_type": "display_data"
    }
   ],
   "source": [
    "centroids = model.centroids\n",
    "\n",
    "plt.scatter(X[:, 2], X[:, 1], c=Y)\n",
    "plt.scatter(centroids[:, 2], centroids[:, 1], c='r')"
   ]
  }
 ],
 "metadata": {
  "kernelspec": {
   "display_name": "Python 3",
   "language": "python",
   "name": "python3"
  },
  "language_info": {
   "codemirror_mode": {
    "name": "ipython",
    "version": 3
   },
   "file_extension": ".py",
   "mimetype": "text/x-python",
   "name": "python",
   "nbconvert_exporter": "python",
   "pygments_lexer": "ipython3",
   "version": "3.10.4"
  },
  "orig_nbformat": 4
 },
 "nbformat": 4,
 "nbformat_minor": 2
}
